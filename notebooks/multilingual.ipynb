{
 "cells": [
  {
   "cell_type": "code",
   "execution_count": 1,
   "metadata": {},
   "outputs": [],
   "source": [
    "import matplotlib.pyplot as plt\n",
    "import numpy as np\n",
    "import seaborn as sns\n",
    "import pandas as pd \n",
    "color_dict = {\n",
    "    \"Eggshell\": \"#f4f1de\",\n",
    "    \"Burnt sienna\": \"#e07a5f\",\n",
    "    \"Delft Blue\": \"#3d405b\",\n",
    "    \"Cambridge blue\": \"#81b29a\",\n",
    "    \"Sunset\": \"#f2cc8f\",\n",
    "}\n",
    "# Use LaTeX fonts for a professional look\n",
    "plt.rcParams.update(\n",
    "    {\n",
    "        \"text.usetex\": True,  # Use LaTeX for text rendering\n",
    "        \"font.family\": \"serif\",  # Use serif fonts\n",
    "    }\n",
    ")\n",
    "\n",
    "# Set seaborn style for better aesthetics\n",
    "# sns.set_style(\"whitegrid\")"
   ]
  },
  {
   "cell_type": "markdown",
   "metadata": {},
   "source": [
    "## Multilingual"
   ]
  },
  {
   "cell_type": "code",
   "execution_count": 2,
   "metadata": {},
   "outputs": [],
   "source": [
    "name_mapping = {\n",
    "    'MetaMath-Mistral-7B.csv': 'Math',\n",
    "    'GEITje-7B-ultra.csv': 'NL',\n",
    "    'phenotype_0.csv': 'MERG$E^3$',\n",
    "    'old_phenotype_0.csv': 'MERG$E^3$',\n",
    "    'Arithmo2-Mistral-7B.csv': 'Math (2)',\n",
    "    'em_german_mistral_v01.csv': 'DE',\n",
    "    'phenotype_0_german_ties.csv': 'MERG$E^3$',\n",
    "    'Abel-7B-002.csv': 'Math (3)', # TODO\n",
    "    'Mistral-7B-v0.1.csv': None,  # TODO\n",
    "    'Mistral-Ita-7b.csv': 'IT',\n",
    "    'RoMistral-7b-Instruct.csv': 'RO',\n",
    "}"
   ]
  },
  {
   "cell_type": "code",
   "execution_count": 3,
   "metadata": {},
   "outputs": [],
   "source": [
    "# ----------------------------------------------------------------------\n",
    "# Read data for each language\n",
    "# ------------------------------------------------------------------------\n",
    "# Example file names; adjust as needed\n",
    "df = pd.read_csv(\"data/multilingual.csv\")    # 'bin', 'accuracy'"
   ]
  },
  {
   "cell_type": "code",
   "execution_count": 5,
   "metadata": {},
   "outputs": [],
   "source": [
    "# rename \n",
    "df['bin'] = df['bin'].map(name_mapping)\n",
    "\n",
    "df.dropna(inplace=True)"
   ]
  },
  {
   "cell_type": "code",
   "execution_count": 6,
   "metadata": {},
   "outputs": [
    {
     "data": {
      "image/png": "[encoded data removed]",
      "text/plain": [
       "<Figure size 800x500 with 1 Axes>"
      ]
     },
     "metadata": {},
     "output_type": "display_data"
    }
   ],
   "source": [
    "\n",
    "colors = {\n",
    "    'MERG$E^3$': color_dict[\"Cambridge blue\"],\n",
    "    'Math': color_dict[\"Delft Blue\"],\n",
    "    'Math (2)': color_dict[\"Delft Blue\"],\n",
    "    'Math (3)': color_dict[\"Delft Blue\"],\n",
    "    'DE': color_dict[\"Burnt sienna\"],\n",
    "    'IT': color_dict[\"Burnt sienna\"],\n",
    "    'RO': color_dict[\"Burnt sienna\"],\n",
    "    'NL': color_dict[\"Burnt sienna\"],\n",
    "}\n",
    "fig, ax = plt.subplots(figsize=(8, 5))\n",
    "\n",
    "sns.barplot(\n",
    "    data=df,\n",
    "    y=\"accuracy\",\n",
    "    x=\"bin\",\n",
    "    hue=\"bin\",\n",
    "    palette=colors,\n",
    "    width=0.6,  # narrower bars\n",
    "    ax=ax\n",
    ")\n",
    "\n",
    "# Give some extra headroom for the labels\n",
    "max_val = df['accuracy'].max()\n",
    "ax.set_ylim(top=max_val * 1.1)\n",
    "\n",
    "# Put numeric labels on top of each bar\n",
    "for p in ax.patches:\n",
    "    height = p.get_height()\n",
    "    if height > 0:\n",
    "        ax.annotate(\n",
    "            f\"{height:.2f}\",\n",
    "            xy=(p.get_x() + p.get_width() / 2, height),\n",
    "            xytext=(0, 3),     # offset label slightly above the bar\n",
    "            textcoords=\"offset points\",\n",
    "            ha='center',\n",
    "            va='bottom',\n",
    "            fontsize=24        # <-- Larger font for bar labels\n",
    "        )\n",
    "\n",
    "# Make tick-label fonts larger\n",
    "ax.tick_params(axis='both', labelsize=24)  # <-- Larger tick labels\n",
    "\n",
    "# Increase label/title font sizes\n",
    "plt.xlabel(\"\", fontsize=24)   # <-- Larger x-axis label\n",
    "plt.ylabel(\"Accuracy\", fontsize=24)  # <-- Larger y-axis label\n",
    "\n",
    "# Optional: remove the top/right spines\n",
    "sns.despine(offset=10, trim=True)\n",
    "\n",
    "plt.tight_layout()\n",
    "\n",
    "plt.savefig(f\"figures/multilingual.pdf\", bbox_inches='tight')\n",
    "plt.show()\n"
   ]
  },
  {
   "cell_type": "code",
   "execution_count": null,
   "metadata": {},
   "outputs": [],
   "source": []
  }
 ],
 "metadata": {
  "kernelspec": {
   "display_name": "tvp",
   "language": "python",
   "name": "python3"
  },
  "language_info": {
   "codemirror_mode": {
    "name": "ipython",
    "version": 3
   },
   "file_extension": ".py",
   "mimetype": "text/x-python",
   "name": "python",
   "nbconvert_exporter": "python",
   "pygments_lexer": "ipython3",
   "version": "3.11.8"
  }
 },
 "nbformat": 4,
 "nbformat_minor": 2
}
