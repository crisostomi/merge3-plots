{
 "cells": [
  {
   "cell_type": "code",
   "execution_count": 41,
   "metadata": {},
   "outputs": [],
   "source": [
    "import matplotlib.pyplot as plt\n",
    "import numpy as np\n",
    "import seaborn as sns\n",
    "import pandas as pd\n",
    " \n",
    "color_dict = {\n",
    "    \"Eggshell\": \"#f4f1de\",\n",
    "    \"Burnt sienna\": \"#e07a5f\",\n",
    "    \"Delft Blue\": \"#3d405b\",\n",
    "    \"Cambridge blue\": \"#81b29a\",\n",
    "    \"Sunset\": \"#f2cc8f\",\n",
    "    \"Rose taupe\": \"#8F5D5D\"\n",
    "}\n",
    "# Use LaTeX fonts for a professional look\n",
    "plt.rcParams.update(\n",
    "    {\n",
    "        \"text.usetex\": True,  # Use LaTeX for text rendering\n",
    "        \"font.family\": \"serif\",  # Use serif fonts\n",
    "    }\n",
    ")\n",
    "\n",
    "# Set seaborn style for better aesthetics\n",
    "# sns.set_style(\"whitegrid\")\n",
    "# Comparison with Sakana over JA\n",
    "name_mapping = {\n",
    "    'Mistral-7B-v0.1.csv': 'Mistral-7B',\n",
    "    'shisa-gamma-7b-v1.csv': 'ShiSA-Gamma-7B',\n",
    "    'Arithmo2-Mistral-7B.csv': 'Arithmo2-7B',\n",
    "    'phenotype_0_rc20.csv': 'MERG$E^3_{20}$',\n",
    "    'phenotype_1_rc30.csv': 'MERG$E^3_{30}$',\n",
    "    'phenotype_2_rc50.csv': 'MERG$E^3_{50}$',\n",
    "    'phenotype_3_rc100.csv': 'MERG$E^3_{100}$',\n",
    "    'Abel-7B-002.csv': 'Abel-7B',\n",
    "    'EvoLLM-JP-v1-7B.csv': 'EvoLLM-JP-7B',\n",
    "}\n",
    "# ----------------------------------------------------------------------\n",
    "# Read data for each language\n",
    "# ------------------------------------------------------------------------\n",
    "# Example file names; adjust as needed\n",
    "df = pd.read_csv(\"data/sakana_comparison.csv\")    # 'bin', 'accuracy'\n",
    "\n",
    "# Tag each DataFrame with the appropriate language\n",
    "df[\"language\"] = \"Japanese\"\n",
    "# rename \n",
    "df['bin'] = df['bin'].map(name_mapping)\n",
    "\n",
    "df.dropna(inplace=True)\n",
    "\n",
    "df\n",
    "\n",
    "colors = {\n",
    "     'MERG$E^3_{20}$': color_dict[\"Cambridge blue\"],\n",
    "        'MERG$E^3_{30}$': color_dict[\"Cambridge blue\"],\n",
    "        'MERG$E^3_{50}$': color_dict[\"Cambridge blue\"],\n",
    "        'MERG$E^3_{100}$': color_dict[\"Cambridge blue\"],\n",
    "        'Abel-7B': color_dict[\"Delft Blue\"],\n",
    "        'EvoLLM-JP-7B': color_dict[\"Burnt sienna\"],\n",
    "        'Arithmo2-7B': color_dict['Eggshell'],\n",
    "        'ShiSA-Gamma-7B': color_dict[\"Sunset\"],\n",
    "        'Mistral-7B': color_dict[\"Rose taupe\"]\n",
    "}"
   ]
  },
  {
   "cell_type": "code",
   "execution_count": 42,
   "metadata": {},
   "outputs": [],
   "source": [
    "# drop MERGE3_50\n",
    "df = df[df['bin'] != 'MERG$E^3_{50}$']"
   ]
  },
  {
   "cell_type": "code",
   "execution_count": 43,
   "metadata": {},
   "outputs": [],
   "source": [
    "# normalize \n",
    "df['dataset_size'] = df['dataset_size'] / 1069 \n",
    "df['data_reduction'] = 1 - df['dataset_size']"
   ]
  },
  {
   "cell_type": "code",
   "execution_count": 44,
   "metadata": {},
   "outputs": [
    {
     "data": {
      "image/png": "[encoded data removed]",
      "text/plain": [
       "<Figure size 800x500 with 1 Axes>"
      ]
     },
     "metadata": {},
     "output_type": "display_data"
    }
   ],
   "source": [
    "# ----------------------------------------------------------------------\n",
    "# Create scatter plot\n",
    "# ----------------------------------------------------------------------\n",
    "fig, ax = plt.subplots(figsize=(8, 5))\n",
    "\n",
    "\n",
    "# Scatter: x = dataset_size, y = accuracy\n",
    "ax.scatter(\n",
    "    df[\"data_reduction\"],\n",
    "    df[\"accuracy\"],\n",
    "    s=100,            # marker size\n",
    "    color=color_dict['Burnt sienna'],   # marker color\n",
    "    alpha=0.8         # marker transparency\n",
    ")\n",
    "\n",
    "# Optionally, annotate each point with its bin label\n",
    "for i, row in df.iterrows():\n",
    "    ax.annotate(\n",
    "        row[\"bin\"],\n",
    "        xy=(row[\"data_reductionS\"], row[\"accuracy\"]),\n",
    "        xytext=(5, 5),               # offset text slightly from the marker\n",
    "        textcoords=\"offset points\",\n",
    "        fontsize=10,\n",
    "        ha=\"left\",\n",
    "        va=\"bottom\"\n",
    "    )\n",
    "\n",
    "\n",
    "\n",
    "# Set axes labels, limits, etc.\n",
    "ax.set_xlabel(\"Optimization dataset size\", fontsize=14)\n",
    "ax.set_ylabel(\"Accuracy\", fontsize=14)\n",
    "\n",
    "# If you know your dataset_size won't exceed 1100, for instance:\n",
    "ax.set_xlim(0, 1.1)\n",
    "ax.set_ylim(0, 0.5)  # If accuracy is from 0.0 to 1.0\n",
    "\n",
    "# Add a title\n",
    "ax.set_title(\"Accuracy vs. optimization dataset size\", fontsize=16, pad=10)\n",
    "\n",
    "# Make it pretty\n",
    "sns.despine()\n",
    "plt.tight_layout()\n",
    "plt.show()"
   ]
  },
  {
   "cell_type": "code",
   "execution_count": null,
   "metadata": {},
   "outputs": [],
   "source": []
  },
  {
   "cell_type": "markdown",
   "metadata": {},
   "source": []
  }
 ],
 "metadata": {
  "kernelspec": {
   "display_name": "tvp",
   "language": "python",
   "name": "python3"
  },
  "language_info": {
   "codemirror_mode": {
    "name": "ipython",
    "version": 3
   },
   "file_extension": ".py",
   "mimetype": "text/x-python",
   "name": "python",
   "nbconvert_exporter": "python",
   "pygments_lexer": "ipython3",
   "version": "3.11.8"
  }
 },
 "nbformat": 4,
 "nbformat_minor": 2
}
